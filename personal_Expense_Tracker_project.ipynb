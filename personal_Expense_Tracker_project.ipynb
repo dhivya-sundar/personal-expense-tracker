{
 "cells": [
  {
   "cell_type": "code",
   "execution_count": 1,
   "id": "6f4e5069-8f4e-4711-bd1d-9f544ca31fce",
   "metadata": {},
   "outputs": [
    {
     "name": "stdout",
     "output_type": "stream",
     "text": [
      "No saved expenses found.\n",
      "\n",
      "--- Personal Expense Tracker ---\n",
      "1. Add Expense\n",
      "2. View Expenses\n",
      "3. Track Budget\n",
      "4. Save Expenses\n",
      "5. Exit\n"
     ]
    },
    {
     "name": "stdin",
     "output_type": "stream",
     "text": [
      "Choose an option (1-5):  1\n",
      "Enter date (YYYY-MM-DD):  25-4-2025\n",
      "Enter category (e.g., Food, Travel):  Food\n",
      "Enter amount:  500\n",
      "Enter description:  Dinner at restaurant\n"
     ]
    },
    {
     "name": "stdout",
     "output_type": "stream",
     "text": [
      "Expense added successfully.\n",
      "\n",
      "--- Personal Expense Tracker ---\n",
      "1. Add Expense\n",
      "2. View Expenses\n",
      "3. Track Budget\n",
      "4. Save Expenses\n",
      "5. Exit\n"
     ]
    },
    {
     "name": "stdin",
     "output_type": "stream",
     "text": [
      "Choose an option (1-5):  2\n"
     ]
    },
    {
     "name": "stdout",
     "output_type": "stream",
     "text": [
      "25-4-2025 - Food - $500.00 - Dinner at restaurant\n",
      "\n",
      "--- Personal Expense Tracker ---\n",
      "1. Add Expense\n",
      "2. View Expenses\n",
      "3. Track Budget\n",
      "4. Save Expenses\n",
      "5. Exit\n"
     ]
    },
    {
     "name": "stdin",
     "output_type": "stream",
     "text": [
      "Choose an option (1-5):  3\n",
      "Enter your monthly budget:  1500\n"
     ]
    },
    {
     "name": "stdout",
     "output_type": "stream",
     "text": [
      "Total expenses so far: $500.00\n",
      "You have $1000.00 left for the month.\n",
      "\n",
      "--- Personal Expense Tracker ---\n",
      "1. Add Expense\n",
      "2. View Expenses\n",
      "3. Track Budget\n",
      "4. Save Expenses\n",
      "5. Exit\n"
     ]
    },
    {
     "name": "stdin",
     "output_type": "stream",
     "text": [
      "Choose an option (1-5):  4\n"
     ]
    },
    {
     "name": "stdout",
     "output_type": "stream",
     "text": [
      "Expenses saved successfully.\n",
      "\n",
      "--- Personal Expense Tracker ---\n",
      "1. Add Expense\n",
      "2. View Expenses\n",
      "3. Track Budget\n",
      "4. Save Expenses\n",
      "5. Exit\n"
     ]
    },
    {
     "name": "stdin",
     "output_type": "stream",
     "text": [
      "Choose an option (1-5):  5\n"
     ]
    },
    {
     "name": "stdout",
     "output_type": "stream",
     "text": [
      "Expenses saved successfully.\n",
      "Goodbye!\n"
     ]
    }
   ],
   "source": [
    "import csv\n",
    "import os\n",
    "\n",
    "expenses = []\n",
    "monthly_budget = 0.0\n",
    "\n",
    "# Load expenses from file if available\n",
    "def load_expenses(filename=\"expenses.csv\"):\n",
    "    global expenses\n",
    "    if os.path.exists(filename):\n",
    "        with open(filename, mode='r', newline='') as file:\n",
    "            reader = csv.DictReader(file)\n",
    "            expenses = [row for row in reader]\n",
    "            for exp in expenses:\n",
    "                exp['amount'] = float(exp['amount'])\n",
    "        print(\"Expenses loaded successfully.\")\n",
    "    else:\n",
    "        print(\"No saved expenses found.\")\n",
    "\n",
    "# Save expenses to file\n",
    "def save_expenses(filename=\"expenses.csv\"):\n",
    "    with open(filename, mode='w', newline='') as file:\n",
    "        fieldnames = ['date', 'category', 'amount', 'description']\n",
    "        writer = csv.DictWriter(file, fieldnames=fieldnames)\n",
    "        writer.writeheader()\n",
    "        for exp in expenses:\n",
    "            writer.writerow(exp)\n",
    "    print(\"Expenses saved successfully.\")\n",
    "\n",
    "# Add an expense\n",
    "def add_expense():\n",
    "    date = input(\"Enter date (YYYY-MM-DD): \")\n",
    "    category = input(\"Enter category (e.g., Food, Travel): \")\n",
    "    try:\n",
    "        amount = float(input(\"Enter amount: \"))\n",
    "    except ValueError:\n",
    "        print(\"Invalid amount. Expense not added.\")\n",
    "        return\n",
    "    description = input(\"Enter description: \")\n",
    "\n",
    "    expense = {'date': date, 'category': category, 'amount': amount, 'description': description}\n",
    "    expenses.append(expense)\n",
    "    print(\"Expense added successfully.\")\n",
    "\n",
    "# View all expenses\n",
    "def view_expenses():\n",
    "    if not expenses:\n",
    "        print(\"No expenses to show.\")\n",
    "        return\n",
    "    for exp in expenses:\n",
    "        if all(key in exp for key in ['date', 'category', 'amount', 'description']):\n",
    "            print(f\"{exp['date']} - {exp['category']} - ${exp['amount']:.2f} - {exp['description']}\")\n",
    "        else:\n",
    "            print(\"Incomplete expense entry found and skipped.\")\n",
    "\n",
    "# Set and track the budget\n",
    "def track_budget():\n",
    "    global monthly_budget\n",
    "    if monthly_budget == 0:\n",
    "        try:\n",
    "            monthly_budget = float(input(\"Enter your monthly budget: \"))\n",
    "        except ValueError:\n",
    "            print(\"Invalid input. Budget not set.\")\n",
    "            return\n",
    "\n",
    "    total_expense = sum(exp['amount'] for exp in expenses)\n",
    "    print(f\"Total expenses so far: ${total_expense:.2f}\")\n",
    "    if total_expense > monthly_budget:\n",
    "        print(\"You have exceeded your budget!\")\n",
    "    else:\n",
    "        print(f\"You have ${monthly_budget - total_expense:.2f} left for the month.\")\n",
    "\n",
    "# Interactive menu\n",
    "def menu():\n",
    "    load_expenses()\n",
    "    while True:\n",
    "        print(\"\\n--- Personal Expense Tracker ---\")\n",
    "        print(\"1. Add Expense\")\n",
    "        print(\"2. View Expenses\")\n",
    "        print(\"3. Track Budget\")\n",
    "        print(\"4. Save Expenses\")\n",
    "        print(\"5. Exit\")\n",
    "        \n",
    "        choice = input(\"Choose an option (1-5): \")\n",
    "        if choice == '1':\n",
    "            add_expense()\n",
    "        elif choice == '2':\n",
    "            view_expenses()\n",
    "        elif choice == '3':\n",
    "            track_budget()\n",
    "        elif choice == '4':\n",
    "            save_expenses()\n",
    "        elif choice == '5':\n",
    "            save_expenses()\n",
    "            print(\"Goodbye!\")\n",
    "            break\n",
    "        else:\n",
    "            print(\"Invalid choice. Please try again.\")\n",
    "\n",
    "# Run the menu\n",
    "if __name__ == \"__main__\":\n",
    "    menu()\n"
   ]
  },
  {
   "cell_type": "code",
   "execution_count": null,
   "id": "ad022d5f-e5bb-45b7-ad8f-ce1f7975d8b7",
   "metadata": {},
   "outputs": [],
   "source": []
  }
 ],
 "metadata": {
  "kernelspec": {
   "display_name": "Python 3 (ipykernel)",
   "language": "python",
   "name": "python3"
  },
  "language_info": {
   "codemirror_mode": {
    "name": "ipython",
    "version": 3
   },
   "file_extension": ".py",
   "mimetype": "text/x-python",
   "name": "python",
   "nbconvert_exporter": "python",
   "pygments_lexer": "ipython3",
   "version": "3.12.0"
  }
 },
 "nbformat": 4,
 "nbformat_minor": 5
}
